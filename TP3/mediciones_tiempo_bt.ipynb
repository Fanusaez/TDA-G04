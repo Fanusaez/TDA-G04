{
 "cells": [
  {
   "cell_type": "code",
   "execution_count": 1,
   "outputs": [],
   "source": [
    "from hitting_set import hitting_set\n",
    "from parser_casos import parsear_archivo"
   ],
   "metadata": {
    "collapsed": false,
    "ExecuteTime": {
     "end_time": "2023-11-15T13:03:19.890238462Z",
     "start_time": "2023-11-15T13:03:19.878709149Z"
    }
   },
   "id": "ed71df3ab8b8708a"
  },
  {
   "cell_type": "code",
   "execution_count": 2,
   "outputs": [],
   "source": [
    "import time"
   ],
   "metadata": {
    "collapsed": false,
    "ExecuteTime": {
     "end_time": "2023-11-15T13:12:16.190542757Z",
     "start_time": "2023-11-15T13:12:16.145664790Z"
    }
   },
   "id": "d3e361714346dde6"
  },
  {
   "cell_type": "markdown",
   "source": [
    "# Mediciones de tiempo de Tests archivos catedra"
   ],
   "metadata": {
    "collapsed": false
   },
   "id": "a4c4b27492b83a39"
  },
  {
   "cell_type": "markdown",
   "source": [
    "## BackTracking"
   ],
   "metadata": {
    "collapsed": false
   },
   "id": "3871126938084747"
  },
  {
   "cell_type": "code",
   "execution_count": 8,
   "outputs": [
    {
     "name": "stdout",
     "output_type": "stream",
     "text": [
      "Ejecutado en: 0.00095367431640625 segundos\n"
     ]
    }
   ],
   "source": [
    "universo, subconjunto = parsear_archivo('TP3/5.txt')\n",
    "k = 2\n",
    "inicio_tiempo = time.time()\n",
    "hitting_set(universo, subconjunto, k)\n",
    "fin_tiempo = time.time()\n",
    "print(f\"Ejecutado en: {fin_tiempo - inicio_tiempo} segundos\")"
   ],
   "metadata": {
    "collapsed": false,
    "ExecuteTime": {
     "end_time": "2023-11-15T13:17:37.361680710Z",
     "start_time": "2023-11-15T13:17:37.346051849Z"
    }
   },
   "id": "3c4dc773a507c246"
  },
  {
   "cell_type": "code",
   "execution_count": 9,
   "outputs": [
    {
     "name": "stdout",
     "output_type": "stream",
     "text": [
      "Ejecutado en: 0.005492687225341797 segundos\n"
     ]
    }
   ],
   "source": [
    "universo, subconjunto = parsear_archivo('TP3/7.txt')\n",
    "k = 3\n",
    "inicio_tiempo = time.time()\n",
    "hitting_set(universo, subconjunto, k)\n",
    "fin_tiempo = time.time()\n",
    "print(f\"Ejecutado en: {fin_tiempo - inicio_tiempo} segundos\")"
   ],
   "metadata": {
    "collapsed": false,
    "ExecuteTime": {
     "end_time": "2023-11-15T13:20:51.282700161Z",
     "start_time": "2023-11-15T13:20:51.241163999Z"
    }
   },
   "id": "43d4837e58513d1d"
  },
  {
   "cell_type": "code",
   "execution_count": 10,
   "outputs": [
    {
     "name": "stdout",
     "output_type": "stream",
     "text": [
      "Ejecutado en: 0.014220476150512695 segundos\n"
     ]
    }
   ],
   "source": [
    "universo, subconjunto = parsear_archivo('TP3/10_pocos.txt')\n",
    "k = 3\n",
    "inicio_tiempo = time.time()\n",
    "hitting_set(universo, subconjunto, k)\n",
    "fin_tiempo = time.time()\n",
    "print(f\"Ejecutado en: {fin_tiempo - inicio_tiempo} segundos\")"
   ],
   "metadata": {
    "collapsed": false,
    "ExecuteTime": {
     "end_time": "2023-11-15T13:21:16.700211905Z",
     "start_time": "2023-11-15T13:21:16.657682246Z"
    }
   },
   "id": "b87f80a876b3d440"
  },
  {
   "cell_type": "code",
   "execution_count": 11,
   "outputs": [
    {
     "name": "stdout",
     "output_type": "stream",
     "text": [
      "Ejecutado en: 698.6693115234375 segundos\n"
     ]
    }
   ],
   "source": [
    "universo, subconjunto = parsear_archivo('TP3/10_todos.txt')\n",
    "k = 10\n",
    "inicio_tiempo = time.time()\n",
    "hitting_set(universo, subconjunto, k)\n",
    "fin_tiempo = time.time()\n",
    "print(f\"Ejecutado en: {fin_tiempo - inicio_tiempo} segundos\")"
   ],
   "metadata": {
    "collapsed": false,
    "ExecuteTime": {
     "end_time": "2023-11-15T13:33:56.858000181Z",
     "start_time": "2023-11-15T13:22:18.141704931Z"
    }
   },
   "id": "20b60666c567398d"
  },
  {
   "cell_type": "code",
   "execution_count": 12,
   "outputs": [
    {
     "name": "stdout",
     "output_type": "stream",
     "text": [
      "Ejecutado en: 1.2781870365142822 segundos\n"
     ]
    }
   ],
   "source": [
    "universo, subconjunto = parsear_archivo('TP3/10_varios.txt')\n",
    "k = 6\n",
    "inicio_tiempo = time.time()\n",
    "hitting_set(universo, subconjunto, k)\n",
    "fin_tiempo = time.time()\n",
    "print(f\"Ejecutado en: {fin_tiempo - inicio_tiempo} segundos\")"
   ],
   "metadata": {
    "collapsed": false,
    "ExecuteTime": {
     "end_time": "2023-11-15T13:34:30.345587872Z",
     "start_time": "2023-11-15T13:34:29.061475583Z"
    }
   },
   "id": "794a9ed6b2b1da59"
  },
  {
   "cell_type": "code",
   "execution_count": 13,
   "outputs": [
    {
     "name": "stdout",
     "output_type": "stream",
     "text": [
      "Ejecutado en: 0.22522258758544922 segundos\n"
     ]
    }
   ],
   "source": [
    "universo, subconjunto = parsear_archivo('TP3/15.txt')\n",
    "k = 4\n",
    "inicio_tiempo = time.time()\n",
    "hitting_set(universo, subconjunto, k)\n",
    "fin_tiempo = time.time()\n",
    "print(f\"Ejecutado en: {fin_tiempo - inicio_tiempo} segundos\")"
   ],
   "metadata": {
    "collapsed": false,
    "ExecuteTime": {
     "end_time": "2023-11-15T13:34:30.574765708Z",
     "start_time": "2023-11-15T13:34:30.338912172Z"
    }
   },
   "id": "add428a69f747701"
  },
  {
   "cell_type": "code",
   "execution_count": 14,
   "outputs": [
    {
     "name": "stdout",
     "output_type": "stream",
     "text": [
      "Ejecutado en: 1.5799310207366943 segundos\n"
     ]
    }
   ],
   "source": [
    "universo, subconjunto = parsear_archivo('TP3/20.txt')\n",
    "k = 5\n",
    "inicio_tiempo = time.time()\n",
    "hitting_set(universo, subconjunto, k)\n",
    "fin_tiempo = time.time()\n",
    "print(f\"Ejecutado en: {fin_tiempo - inicio_tiempo} segundos\")"
   ],
   "metadata": {
    "collapsed": false,
    "ExecuteTime": {
     "end_time": "2023-11-15T13:34:32.166764875Z",
     "start_time": "2023-11-15T13:34:30.570489805Z"
    }
   },
   "id": "ce81b95ba33254bb"
  },
  {
   "cell_type": "code",
   "execution_count": 16,
   "outputs": [
    {
     "name": "stdout",
     "output_type": "stream",
     "text": [
      "Ejecutado en: 8.49522852897644 segundos\n"
     ]
    }
   ],
   "source": [
    "universo, subconjunto = parsear_archivo('TP3/50.txt')\n",
    "k = 6\n",
    "inicio_tiempo = time.time()\n",
    "hitting_set(universo, subconjunto, k)\n",
    "fin_tiempo = time.time()\n",
    "print(f\"Ejecutado en: {fin_tiempo - inicio_tiempo} segundos\")"
   ],
   "metadata": {
    "collapsed": false,
    "ExecuteTime": {
     "end_time": "2023-11-15T13:34:55.531093416Z",
     "start_time": "2023-11-15T13:34:46.999557614Z"
    }
   },
   "id": "9f4390d385e09a4b"
  },
  {
   "cell_type": "code",
   "execution_count": 17,
   "outputs": [
    {
     "name": "stdout",
     "output_type": "stream",
     "text": [
      "Ejecutado en: 90.50087976455688 segundos\n"
     ]
    }
   ],
   "source": [
    "universo, subconjunto = parsear_archivo('TP3/75.txt')\n",
    "k = 8\n",
    "inicio_tiempo = time.time()\n",
    "hitting_set(universo, subconjunto, k)\n",
    "fin_tiempo = time.time()\n",
    "print(f\"Ejecutado en: {fin_tiempo - inicio_tiempo} segundos\")"
   ],
   "metadata": {
    "collapsed": false,
    "ExecuteTime": {
     "end_time": "2023-11-15T13:36:25.995148985Z",
     "start_time": "2023-11-15T13:34:55.526010585Z"
    }
   },
   "id": "a2d1a777c08f06c2"
  },
  {
   "cell_type": "code",
   "execution_count": 18,
   "outputs": [
    {
     "name": "stdout",
     "output_type": "stream",
     "text": [
      "Ejecutado en: 356.3795928955078 segundos\n"
     ]
    }
   ],
   "source": [
    "universo, subconjunto = parsear_archivo('TP3/100.txt')\n",
    "k = 9\n",
    "inicio_tiempo = time.time()\n",
    "hitting_set(universo, subconjunto, k)\n",
    "fin_tiempo = time.time()\n",
    "print(f\"Ejecutado en: {fin_tiempo - inicio_tiempo} segundos\")"
   ],
   "metadata": {
    "collapsed": false,
    "ExecuteTime": {
     "end_time": "2023-11-15T13:42:22.379365076Z",
     "start_time": "2023-11-15T13:36:25.994114137Z"
    }
   },
   "id": "18a928cef271b94b"
  },
  {
   "cell_type": "code",
   "execution_count": 19,
   "outputs": [
    {
     "name": "stdout",
     "output_type": "stream",
     "text": [
      "Ejecutado en: 596.783872127533 segundos\n"
     ]
    }
   ],
   "source": [
    "universo, subconjunto = parsear_archivo('TP3/200.txt')\n",
    "k = 9\n",
    "inicio_tiempo = time.time()\n",
    "hitting_set(universo, subconjunto, k)\n",
    "fin_tiempo = time.time()\n",
    "print(f\"Ejecutado en: {fin_tiempo - inicio_tiempo} segundos\")"
   ],
   "metadata": {
    "collapsed": false,
    "ExecuteTime": {
     "end_time": "2023-11-15T13:52:19.218399756Z",
     "start_time": "2023-11-15T13:42:22.387409741Z"
    }
   },
   "id": "d9daf2bfbbe78cb"
  }
 ],
 "metadata": {
  "kernelspec": {
   "display_name": "Python 3",
   "language": "python",
   "name": "python3"
  },
  "language_info": {
   "codemirror_mode": {
    "name": "ipython",
    "version": 2
   },
   "file_extension": ".py",
   "mimetype": "text/x-python",
   "name": "python",
   "nbconvert_exporter": "python",
   "pygments_lexer": "ipython2",
   "version": "2.7.6"
  }
 },
 "nbformat": 4,
 "nbformat_minor": 5
}
