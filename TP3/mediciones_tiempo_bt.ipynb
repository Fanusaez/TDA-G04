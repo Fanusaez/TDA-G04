{
 "cells": [
  {
   "cell_type": "code",
   "execution_count": 1,
   "outputs": [],
   "source": [
    "from hitting_set import hitting_set\n",
    "from parser_casos import parsear_archivo"
   ],
   "metadata": {
    "collapsed": false,
    "ExecuteTime": {
     "end_time": "2023-11-15T15:39:37.196662358Z",
     "start_time": "2023-11-15T15:39:37.123547489Z"
    }
   },
   "id": "ed71df3ab8b8708a"
  },
  {
   "cell_type": "code",
   "execution_count": 2,
   "outputs": [],
   "source": [
    "import time"
   ],
   "metadata": {
    "collapsed": false,
    "ExecuteTime": {
     "end_time": "2023-11-15T15:39:37.205142289Z",
     "start_time": "2023-11-15T15:39:37.126101278Z"
    }
   },
   "id": "d3e361714346dde6"
  },
  {
   "cell_type": "markdown",
   "source": [
    "# Mediciones de tiempo de Tests archivos catedra"
   ],
   "metadata": {
    "collapsed": false
   },
   "id": "a4c4b27492b83a39"
  },
  {
   "cell_type": "markdown",
   "source": [
    "## BackTracking"
   ],
   "metadata": {
    "collapsed": false
   },
   "id": "3871126938084747"
  },
  {
   "cell_type": "code",
   "execution_count": 3,
   "outputs": [
    {
     "name": "stdout",
     "output_type": "stream",
     "text": [
      "Ejecutado en: 0.0008301734924316406 segundos\n"
     ]
    }
   ],
   "source": [
    "universo, subconjunto = parsear_archivo('TP3/5.txt')\n",
    "inicio_tiempo = time.time()\n",
    "hitting_set(universo, subconjunto)\n",
    "fin_tiempo = time.time()\n",
    "print(f\"Ejecutado en: {fin_tiempo - inicio_tiempo} segundos\")"
   ],
   "metadata": {
    "collapsed": false,
    "ExecuteTime": {
     "end_time": "2023-11-15T15:39:37.207328857Z",
     "start_time": "2023-11-15T15:39:37.126623277Z"
    }
   },
   "id": "3c4dc773a507c246"
  },
  {
   "cell_type": "code",
   "execution_count": 4,
   "outputs": [
    {
     "name": "stdout",
     "output_type": "stream",
     "text": [
      "Ejecutado en: 0.001489400863647461 segundos\n"
     ]
    }
   ],
   "source": [
    "universo, subconjunto = parsear_archivo('TP3/7.txt')\n",
    "inicio_tiempo = time.time()\n",
    "hitting_set(universo, subconjunto)\n",
    "fin_tiempo = time.time()\n",
    "print(f\"Ejecutado en: {fin_tiempo - inicio_tiempo} segundos\")"
   ],
   "metadata": {
    "collapsed": false,
    "ExecuteTime": {
     "end_time": "2023-11-15T15:39:37.208065997Z",
     "start_time": "2023-11-15T15:39:37.127666227Z"
    }
   },
   "id": "43d4837e58513d1d"
  },
  {
   "cell_type": "code",
   "execution_count": 5,
   "outputs": [
    {
     "name": "stdout",
     "output_type": "stream",
     "text": [
      "Ejecutado en: 0.018796920776367188 segundos\n"
     ]
    }
   ],
   "source": [
    "universo, subconjunto = parsear_archivo('TP3/10_pocos.txt')\n",
    "inicio_tiempo = time.time()\n",
    "hitting_set(universo, subconjunto)\n",
    "fin_tiempo = time.time()\n",
    "print(f\"Ejecutado en: {fin_tiempo - inicio_tiempo} segundos\")"
   ],
   "metadata": {
    "collapsed": false,
    "ExecuteTime": {
     "end_time": "2023-11-15T15:39:37.208759142Z",
     "start_time": "2023-11-15T15:39:37.154067482Z"
    }
   },
   "id": "b87f80a876b3d440"
  },
  {
   "cell_type": "code",
   "execution_count": 6,
   "outputs": [
    {
     "name": "stdout",
     "output_type": "stream",
     "text": [
      "Ejecutado en: 1159.9635400772095 segundos\n"
     ]
    }
   ],
   "source": [
    "universo, subconjunto = parsear_archivo('TP3/10_todos.txt')\n",
    "inicio_tiempo = time.time()\n",
    "hitting_set(universo, subconjunto)\n",
    "fin_tiempo = time.time()\n",
    "print(f\"Ejecutado en: {fin_tiempo - inicio_tiempo} segundos\")"
   ],
   "metadata": {
    "collapsed": false,
    "ExecuteTime": {
     "end_time": "2023-11-15T15:58:57.126530884Z",
     "start_time": "2023-11-15T15:39:37.158339636Z"
    }
   },
   "id": "20b60666c567398d"
  },
  {
   "cell_type": "code",
   "execution_count": 7,
   "outputs": [
    {
     "name": "stdout",
     "output_type": "stream",
     "text": [
      "Ejecutado en: 4.848559379577637 segundos\n"
     ]
    }
   ],
   "source": [
    "universo, subconjunto = parsear_archivo('TP3/10_varios.txt')\n",
    "inicio_tiempo = time.time()\n",
    "hitting_set(universo, subconjunto)\n",
    "fin_tiempo = time.time()\n",
    "print(f\"Ejecutado en: {fin_tiempo - inicio_tiempo} segundos\")"
   ],
   "metadata": {
    "collapsed": false,
    "ExecuteTime": {
     "end_time": "2023-11-15T15:59:01.983559470Z",
     "start_time": "2023-11-15T15:58:57.186309450Z"
    }
   },
   "id": "794a9ed6b2b1da59"
  },
  {
   "cell_type": "code",
   "execution_count": 8,
   "outputs": [
    {
     "name": "stdout",
     "output_type": "stream",
     "text": [
      "Ejecutado en: 0.49121546745300293 segundos\n"
     ]
    }
   ],
   "source": [
    "universo, subconjunto = parsear_archivo('TP3/15.txt')\n",
    "inicio_tiempo = time.time()\n",
    "hitting_set(universo, subconjunto)\n",
    "fin_tiempo = time.time()\n",
    "print(f\"Ejecutado en: {fin_tiempo - inicio_tiempo} segundos\")"
   ],
   "metadata": {
    "collapsed": false,
    "ExecuteTime": {
     "end_time": "2023-11-15T15:59:02.488239997Z",
     "start_time": "2023-11-15T15:59:01.982756035Z"
    }
   },
   "id": "add428a69f747701"
  },
  {
   "cell_type": "code",
   "execution_count": 9,
   "outputs": [
    {
     "name": "stdout",
     "output_type": "stream",
     "text": [
      "Ejecutado en: 1.8211183547973633 segundos\n"
     ]
    }
   ],
   "source": [
    "universo, subconjunto = parsear_archivo('TP3/20.txt')\n",
    "inicio_tiempo = time.time()\n",
    "hitting_set(universo, subconjunto)\n",
    "fin_tiempo = time.time()\n",
    "print(f\"Ejecutado en: {fin_tiempo - inicio_tiempo} segundos\")"
   ],
   "metadata": {
    "collapsed": false,
    "ExecuteTime": {
     "end_time": "2023-11-15T15:59:04.309990083Z",
     "start_time": "2023-11-15T15:59:02.524743142Z"
    }
   },
   "id": "ce81b95ba33254bb"
  },
  {
   "cell_type": "code",
   "execution_count": 10,
   "outputs": [
    {
     "name": "stdout",
     "output_type": "stream",
     "text": [
      "Ejecutado en: 13.143906116485596 segundos\n"
     ]
    }
   ],
   "source": [
    "universo, subconjunto = parsear_archivo('TP3/50.txt')\n",
    "inicio_tiempo = time.time()\n",
    "hitting_set(universo, subconjunto)\n",
    "fin_tiempo = time.time()\n",
    "print(f\"Ejecutado en: {fin_tiempo - inicio_tiempo} segundos\")"
   ],
   "metadata": {
    "collapsed": false,
    "ExecuteTime": {
     "end_time": "2023-11-15T15:59:17.503852687Z",
     "start_time": "2023-11-15T15:59:04.303588100Z"
    }
   },
   "id": "9f4390d385e09a4b"
  },
  {
   "cell_type": "code",
   "execution_count": 11,
   "outputs": [
    {
     "name": "stdout",
     "output_type": "stream",
     "text": [
      "Ejecutado en: 114.71563863754272 segundos\n"
     ]
    }
   ],
   "source": [
    "universo, subconjunto = parsear_archivo('TP3/75.txt')\n",
    "inicio_tiempo = time.time()\n",
    "hitting_set(universo, subconjunto)\n",
    "fin_tiempo = time.time()\n",
    "print(f\"Ejecutado en: {fin_tiempo - inicio_tiempo} segundos\")"
   ],
   "metadata": {
    "collapsed": false,
    "ExecuteTime": {
     "end_time": "2023-11-15T16:01:12.212565665Z",
     "start_time": "2023-11-15T15:59:17.489980200Z"
    }
   },
   "id": "a2d1a777c08f06c2"
  },
  {
   "cell_type": "code",
   "execution_count": 12,
   "outputs": [
    {
     "name": "stdout",
     "output_type": "stream",
     "text": [
      "Ejecutado en: 353.5146062374115 segundos\n"
     ]
    }
   ],
   "source": [
    "universo, subconjunto = parsear_archivo('TP3/100.txt')\n",
    "inicio_tiempo = time.time()\n",
    "hitting_set(universo, subconjunto)\n",
    "fin_tiempo = time.time()\n",
    "print(f\"Ejecutado en: {fin_tiempo - inicio_tiempo} segundos\")"
   ],
   "metadata": {
    "collapsed": false,
    "ExecuteTime": {
     "end_time": "2023-11-15T16:07:05.691194641Z",
     "start_time": "2023-11-15T16:01:12.210089142Z"
    }
   },
   "id": "18a928cef271b94b"
  },
  {
   "cell_type": "code",
   "execution_count": 13,
   "outputs": [
    {
     "name": "stdout",
     "output_type": "stream",
     "text": [
      "Ejecutado en: 1368.4363543987274 segundos\n"
     ]
    }
   ],
   "source": [
    "universo, subconjunto = parsear_archivo('TP3/200.txt')\n",
    "inicio_tiempo = time.time()\n",
    "hitting_set(universo, subconjunto)\n",
    "fin_tiempo = time.time()\n",
    "print(f\"Ejecutado en: {fin_tiempo - inicio_tiempo} segundos\")"
   ],
   "metadata": {
    "collapsed": false,
    "ExecuteTime": {
     "end_time": "2023-11-15T16:29:54.132494180Z",
     "start_time": "2023-11-15T16:07:05.785286245Z"
    }
   },
   "id": "d9daf2bfbbe78cb"
  }
 ],
 "metadata": {
  "kernelspec": {
   "display_name": "Python 3",
   "language": "python",
   "name": "python3"
  },
  "language_info": {
   "codemirror_mode": {
    "name": "ipython",
    "version": 2
   },
   "file_extension": ".py",
   "mimetype": "text/x-python",
   "name": "python",
   "nbconvert_exporter": "python",
   "pygments_lexer": "ipython2",
   "version": "2.7.6"
  }
 },
 "nbformat": 4,
 "nbformat_minor": 5
}
